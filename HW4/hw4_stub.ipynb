{
 "cells": [
  {
   "cell_type": "markdown",
   "id": "496d83a4-2983-4811-b6ee-a23f0cc4d77e",
   "metadata": {},
   "source": [
    "# Homework 4: Fairness and bias interventions"
   ]
  },
  {
   "cell_type": "markdown",
   "id": "57507e53-4e30-4f2d-9e41-94542716052c",
   "metadata": {},
   "source": [
    "## Regression: Download the \"wine quality\" dataset:\n",
    "\n",
    "https://archive.ics.uci.edu/dataset/186/wine+quality\n",
    "\n",
    "## Unzip the file \"wine+quality.zip\" to obtain:\n",
    "\n",
    "- winequality.names\n",
    "- winequality-red.csv\n",
    "- winequality-white.csv"
   ]
  },
  {
   "cell_type": "markdown",
   "id": "30a3705a-61c6-4c97-be1f-3e738cd583ae",
   "metadata": {},
   "source": [
    "Predifine the answers:"
   ]
  },
  {
   "cell_type": "code",
   "execution_count": 1,
   "id": "9c1be08f-5a17-42c3-a10a-ef49c17d3d38",
   "metadata": {},
   "outputs": [],
   "source": [
    "answers = {}"
   ]
  },
  {
   "cell_type": "markdown",
   "id": "362570e5-f232-4acc-bd2f-df447d282cc1",
   "metadata": {},
   "source": [
    "### Implement a  linear regressor using all continuous attributes (i.e., everything except color) to predict the wine quality. Use an 80/20 train/test split. Use sklearn’s `linear_model.LinearRegression`"
   ]
  },
  {
   "cell_type": "code",
   "execution_count": 2,
   "id": "1b557ec0-d6e0-4382-940e-eac85880f7e7",
   "metadata": {},
   "outputs": [
    {
     "name": "stdout",
     "output_type": "stream",
     "text": [
      "Train data shape: (5197, 12)\n",
      "Test data shape: (1300, 12)\n"
     ]
    }
   ],
   "source": [
    "import pandas as pd\n",
    "from sklearn.model_selection import train_test_split\n",
    "from sklearn.preprocessing import StandardScaler\n",
    "\n",
    "scaler = StandardScaler()\n",
    "\n",
    "# Load datasets\n",
    "winequality_red = pd.read_csv(\"winequality-red.csv\", sep=';')\n",
    "winequality_white = pd.read_csv(\"winequality-white.csv\", sep=';')\n",
    "\n",
    "# Concatenate the datasets\n",
    "wine_data = pd.concat([winequality_red, winequality_white], axis=0).reset_index(drop=True)\n",
    "\n",
    "# Set a random seed and split the train/test subsets\n",
    "random_seed = 42\n",
    "train_data, test_data = train_test_split(wine_data, test_size=0.2, random_state=random_seed)\n",
    "\n",
    "# Display the train and test data\n",
    "print(f\"Train data shape: {train_data.shape}\")\n",
    "print(f\"Test data shape: {test_data.shape}\")\n",
    "\n",
    "# Train the linear regression model\n",
    "X_train = train_data.drop(columns=['quality'])\n",
    "y_train = train_data['quality']\n",
    "X_test = test_data.drop(columns=['quality'])\n",
    "y_test = test_data['quality']\n",
    "\n",
    "# normalize the dataset\n",
    "X_train_normalized = scaler.fit_transform(X_train)\n",
    "X_test_normalized = scaler.transform(X_test)"
   ]
  },
  {
   "cell_type": "code",
   "execution_count": 3,
   "id": "bc26500b-b310-4814-a68c-7bee4a085713",
   "metadata": {},
   "outputs": [],
   "source": [
    "from sklearn.linear_model import LinearRegression\n",
    "from sklearn.metrics import mean_squared_error"
   ]
  },
  {
   "cell_type": "code",
   "execution_count": 4,
   "id": "b306471a-3204-4dbf-a409-eb33238e96d6",
   "metadata": {},
   "outputs": [
    {
     "data": {
      "text/html": [
       "<style>#sk-container-id-1 {\n",
       "  /* Definition of color scheme common for light and dark mode */\n",
       "  --sklearn-color-text: black;\n",
       "  --sklearn-color-line: gray;\n",
       "  /* Definition of color scheme for unfitted estimators */\n",
       "  --sklearn-color-unfitted-level-0: #fff5e6;\n",
       "  --sklearn-color-unfitted-level-1: #f6e4d2;\n",
       "  --sklearn-color-unfitted-level-2: #ffe0b3;\n",
       "  --sklearn-color-unfitted-level-3: chocolate;\n",
       "  /* Definition of color scheme for fitted estimators */\n",
       "  --sklearn-color-fitted-level-0: #f0f8ff;\n",
       "  --sklearn-color-fitted-level-1: #d4ebff;\n",
       "  --sklearn-color-fitted-level-2: #b3dbfd;\n",
       "  --sklearn-color-fitted-level-3: cornflowerblue;\n",
       "\n",
       "  /* Specific color for light theme */\n",
       "  --sklearn-color-text-on-default-background: var(--sg-text-color, var(--theme-code-foreground, var(--jp-content-font-color1, black)));\n",
       "  --sklearn-color-background: var(--sg-background-color, var(--theme-background, var(--jp-layout-color0, white)));\n",
       "  --sklearn-color-border-box: var(--sg-text-color, var(--theme-code-foreground, var(--jp-content-font-color1, black)));\n",
       "  --sklearn-color-icon: #696969;\n",
       "\n",
       "  @media (prefers-color-scheme: dark) {\n",
       "    /* Redefinition of color scheme for dark theme */\n",
       "    --sklearn-color-text-on-default-background: var(--sg-text-color, var(--theme-code-foreground, var(--jp-content-font-color1, white)));\n",
       "    --sklearn-color-background: var(--sg-background-color, var(--theme-background, var(--jp-layout-color0, #111)));\n",
       "    --sklearn-color-border-box: var(--sg-text-color, var(--theme-code-foreground, var(--jp-content-font-color1, white)));\n",
       "    --sklearn-color-icon: #878787;\n",
       "  }\n",
       "}\n",
       "\n",
       "#sk-container-id-1 {\n",
       "  color: var(--sklearn-color-text);\n",
       "}\n",
       "\n",
       "#sk-container-id-1 pre {\n",
       "  padding: 0;\n",
       "}\n",
       "\n",
       "#sk-container-id-1 input.sk-hidden--visually {\n",
       "  border: 0;\n",
       "  clip: rect(1px 1px 1px 1px);\n",
       "  clip: rect(1px, 1px, 1px, 1px);\n",
       "  height: 1px;\n",
       "  margin: -1px;\n",
       "  overflow: hidden;\n",
       "  padding: 0;\n",
       "  position: absolute;\n",
       "  width: 1px;\n",
       "}\n",
       "\n",
       "#sk-container-id-1 div.sk-dashed-wrapped {\n",
       "  border: 1px dashed var(--sklearn-color-line);\n",
       "  margin: 0 0.4em 0.5em 0.4em;\n",
       "  box-sizing: border-box;\n",
       "  padding-bottom: 0.4em;\n",
       "  background-color: var(--sklearn-color-background);\n",
       "}\n",
       "\n",
       "#sk-container-id-1 div.sk-container {\n",
       "  /* jupyter's `normalize.less` sets `[hidden] { display: none; }`\n",
       "     but bootstrap.min.css set `[hidden] { display: none !important; }`\n",
       "     so we also need the `!important` here to be able to override the\n",
       "     default hidden behavior on the sphinx rendered scikit-learn.org.\n",
       "     See: https://github.com/scikit-learn/scikit-learn/issues/21755 */\n",
       "  display: inline-block !important;\n",
       "  position: relative;\n",
       "}\n",
       "\n",
       "#sk-container-id-1 div.sk-text-repr-fallback {\n",
       "  display: none;\n",
       "}\n",
       "\n",
       "div.sk-parallel-item,\n",
       "div.sk-serial,\n",
       "div.sk-item {\n",
       "  /* draw centered vertical line to link estimators */\n",
       "  background-image: linear-gradient(var(--sklearn-color-text-on-default-background), var(--sklearn-color-text-on-default-background));\n",
       "  background-size: 2px 100%;\n",
       "  background-repeat: no-repeat;\n",
       "  background-position: center center;\n",
       "}\n",
       "\n",
       "/* Parallel-specific style estimator block */\n",
       "\n",
       "#sk-container-id-1 div.sk-parallel-item::after {\n",
       "  content: \"\";\n",
       "  width: 100%;\n",
       "  border-bottom: 2px solid var(--sklearn-color-text-on-default-background);\n",
       "  flex-grow: 1;\n",
       "}\n",
       "\n",
       "#sk-container-id-1 div.sk-parallel {\n",
       "  display: flex;\n",
       "  align-items: stretch;\n",
       "  justify-content: center;\n",
       "  background-color: var(--sklearn-color-background);\n",
       "  position: relative;\n",
       "}\n",
       "\n",
       "#sk-container-id-1 div.sk-parallel-item {\n",
       "  display: flex;\n",
       "  flex-direction: column;\n",
       "}\n",
       "\n",
       "#sk-container-id-1 div.sk-parallel-item:first-child::after {\n",
       "  align-self: flex-end;\n",
       "  width: 50%;\n",
       "}\n",
       "\n",
       "#sk-container-id-1 div.sk-parallel-item:last-child::after {\n",
       "  align-self: flex-start;\n",
       "  width: 50%;\n",
       "}\n",
       "\n",
       "#sk-container-id-1 div.sk-parallel-item:only-child::after {\n",
       "  width: 0;\n",
       "}\n",
       "\n",
       "/* Serial-specific style estimator block */\n",
       "\n",
       "#sk-container-id-1 div.sk-serial {\n",
       "  display: flex;\n",
       "  flex-direction: column;\n",
       "  align-items: center;\n",
       "  background-color: var(--sklearn-color-background);\n",
       "  padding-right: 1em;\n",
       "  padding-left: 1em;\n",
       "}\n",
       "\n",
       "\n",
       "/* Toggleable style: style used for estimator/Pipeline/ColumnTransformer box that is\n",
       "clickable and can be expanded/collapsed.\n",
       "- Pipeline and ColumnTransformer use this feature and define the default style\n",
       "- Estimators will overwrite some part of the style using the `sk-estimator` class\n",
       "*/\n",
       "\n",
       "/* Pipeline and ColumnTransformer style (default) */\n",
       "\n",
       "#sk-container-id-1 div.sk-toggleable {\n",
       "  /* Default theme specific background. It is overwritten whether we have a\n",
       "  specific estimator or a Pipeline/ColumnTransformer */\n",
       "  background-color: var(--sklearn-color-background);\n",
       "}\n",
       "\n",
       "/* Toggleable label */\n",
       "#sk-container-id-1 label.sk-toggleable__label {\n",
       "  cursor: pointer;\n",
       "  display: block;\n",
       "  width: 100%;\n",
       "  margin-bottom: 0;\n",
       "  padding: 0.5em;\n",
       "  box-sizing: border-box;\n",
       "  text-align: center;\n",
       "}\n",
       "\n",
       "#sk-container-id-1 label.sk-toggleable__label-arrow:before {\n",
       "  /* Arrow on the left of the label */\n",
       "  content: \"▸\";\n",
       "  float: left;\n",
       "  margin-right: 0.25em;\n",
       "  color: var(--sklearn-color-icon);\n",
       "}\n",
       "\n",
       "#sk-container-id-1 label.sk-toggleable__label-arrow:hover:before {\n",
       "  color: var(--sklearn-color-text);\n",
       "}\n",
       "\n",
       "/* Toggleable content - dropdown */\n",
       "\n",
       "#sk-container-id-1 div.sk-toggleable__content {\n",
       "  max-height: 0;\n",
       "  max-width: 0;\n",
       "  overflow: hidden;\n",
       "  text-align: left;\n",
       "  /* unfitted */\n",
       "  background-color: var(--sklearn-color-unfitted-level-0);\n",
       "}\n",
       "\n",
       "#sk-container-id-1 div.sk-toggleable__content.fitted {\n",
       "  /* fitted */\n",
       "  background-color: var(--sklearn-color-fitted-level-0);\n",
       "}\n",
       "\n",
       "#sk-container-id-1 div.sk-toggleable__content pre {\n",
       "  margin: 0.2em;\n",
       "  border-radius: 0.25em;\n",
       "  color: var(--sklearn-color-text);\n",
       "  /* unfitted */\n",
       "  background-color: var(--sklearn-color-unfitted-level-0);\n",
       "}\n",
       "\n",
       "#sk-container-id-1 div.sk-toggleable__content.fitted pre {\n",
       "  /* unfitted */\n",
       "  background-color: var(--sklearn-color-fitted-level-0);\n",
       "}\n",
       "\n",
       "#sk-container-id-1 input.sk-toggleable__control:checked~div.sk-toggleable__content {\n",
       "  /* Expand drop-down */\n",
       "  max-height: 200px;\n",
       "  max-width: 100%;\n",
       "  overflow: auto;\n",
       "}\n",
       "\n",
       "#sk-container-id-1 input.sk-toggleable__control:checked~label.sk-toggleable__label-arrow:before {\n",
       "  content: \"▾\";\n",
       "}\n",
       "\n",
       "/* Pipeline/ColumnTransformer-specific style */\n",
       "\n",
       "#sk-container-id-1 div.sk-label input.sk-toggleable__control:checked~label.sk-toggleable__label {\n",
       "  color: var(--sklearn-color-text);\n",
       "  background-color: var(--sklearn-color-unfitted-level-2);\n",
       "}\n",
       "\n",
       "#sk-container-id-1 div.sk-label.fitted input.sk-toggleable__control:checked~label.sk-toggleable__label {\n",
       "  background-color: var(--sklearn-color-fitted-level-2);\n",
       "}\n",
       "\n",
       "/* Estimator-specific style */\n",
       "\n",
       "/* Colorize estimator box */\n",
       "#sk-container-id-1 div.sk-estimator input.sk-toggleable__control:checked~label.sk-toggleable__label {\n",
       "  /* unfitted */\n",
       "  background-color: var(--sklearn-color-unfitted-level-2);\n",
       "}\n",
       "\n",
       "#sk-container-id-1 div.sk-estimator.fitted input.sk-toggleable__control:checked~label.sk-toggleable__label {\n",
       "  /* fitted */\n",
       "  background-color: var(--sklearn-color-fitted-level-2);\n",
       "}\n",
       "\n",
       "#sk-container-id-1 div.sk-label label.sk-toggleable__label,\n",
       "#sk-container-id-1 div.sk-label label {\n",
       "  /* The background is the default theme color */\n",
       "  color: var(--sklearn-color-text-on-default-background);\n",
       "}\n",
       "\n",
       "/* On hover, darken the color of the background */\n",
       "#sk-container-id-1 div.sk-label:hover label.sk-toggleable__label {\n",
       "  color: var(--sklearn-color-text);\n",
       "  background-color: var(--sklearn-color-unfitted-level-2);\n",
       "}\n",
       "\n",
       "/* Label box, darken color on hover, fitted */\n",
       "#sk-container-id-1 div.sk-label.fitted:hover label.sk-toggleable__label.fitted {\n",
       "  color: var(--sklearn-color-text);\n",
       "  background-color: var(--sklearn-color-fitted-level-2);\n",
       "}\n",
       "\n",
       "/* Estimator label */\n",
       "\n",
       "#sk-container-id-1 div.sk-label label {\n",
       "  font-family: monospace;\n",
       "  font-weight: bold;\n",
       "  display: inline-block;\n",
       "  line-height: 1.2em;\n",
       "}\n",
       "\n",
       "#sk-container-id-1 div.sk-label-container {\n",
       "  text-align: center;\n",
       "}\n",
       "\n",
       "/* Estimator-specific */\n",
       "#sk-container-id-1 div.sk-estimator {\n",
       "  font-family: monospace;\n",
       "  border: 1px dotted var(--sklearn-color-border-box);\n",
       "  border-radius: 0.25em;\n",
       "  box-sizing: border-box;\n",
       "  margin-bottom: 0.5em;\n",
       "  /* unfitted */\n",
       "  background-color: var(--sklearn-color-unfitted-level-0);\n",
       "}\n",
       "\n",
       "#sk-container-id-1 div.sk-estimator.fitted {\n",
       "  /* fitted */\n",
       "  background-color: var(--sklearn-color-fitted-level-0);\n",
       "}\n",
       "\n",
       "/* on hover */\n",
       "#sk-container-id-1 div.sk-estimator:hover {\n",
       "  /* unfitted */\n",
       "  background-color: var(--sklearn-color-unfitted-level-2);\n",
       "}\n",
       "\n",
       "#sk-container-id-1 div.sk-estimator.fitted:hover {\n",
       "  /* fitted */\n",
       "  background-color: var(--sklearn-color-fitted-level-2);\n",
       "}\n",
       "\n",
       "/* Specification for estimator info (e.g. \"i\" and \"?\") */\n",
       "\n",
       "/* Common style for \"i\" and \"?\" */\n",
       "\n",
       ".sk-estimator-doc-link,\n",
       "a:link.sk-estimator-doc-link,\n",
       "a:visited.sk-estimator-doc-link {\n",
       "  float: right;\n",
       "  font-size: smaller;\n",
       "  line-height: 1em;\n",
       "  font-family: monospace;\n",
       "  background-color: var(--sklearn-color-background);\n",
       "  border-radius: 1em;\n",
       "  height: 1em;\n",
       "  width: 1em;\n",
       "  text-decoration: none !important;\n",
       "  margin-left: 1ex;\n",
       "  /* unfitted */\n",
       "  border: var(--sklearn-color-unfitted-level-1) 1pt solid;\n",
       "  color: var(--sklearn-color-unfitted-level-1);\n",
       "}\n",
       "\n",
       ".sk-estimator-doc-link.fitted,\n",
       "a:link.sk-estimator-doc-link.fitted,\n",
       "a:visited.sk-estimator-doc-link.fitted {\n",
       "  /* fitted */\n",
       "  border: var(--sklearn-color-fitted-level-1) 1pt solid;\n",
       "  color: var(--sklearn-color-fitted-level-1);\n",
       "}\n",
       "\n",
       "/* On hover */\n",
       "div.sk-estimator:hover .sk-estimator-doc-link:hover,\n",
       ".sk-estimator-doc-link:hover,\n",
       "div.sk-label-container:hover .sk-estimator-doc-link:hover,\n",
       ".sk-estimator-doc-link:hover {\n",
       "  /* unfitted */\n",
       "  background-color: var(--sklearn-color-unfitted-level-3);\n",
       "  color: var(--sklearn-color-background);\n",
       "  text-decoration: none;\n",
       "}\n",
       "\n",
       "div.sk-estimator.fitted:hover .sk-estimator-doc-link.fitted:hover,\n",
       ".sk-estimator-doc-link.fitted:hover,\n",
       "div.sk-label-container:hover .sk-estimator-doc-link.fitted:hover,\n",
       ".sk-estimator-doc-link.fitted:hover {\n",
       "  /* fitted */\n",
       "  background-color: var(--sklearn-color-fitted-level-3);\n",
       "  color: var(--sklearn-color-background);\n",
       "  text-decoration: none;\n",
       "}\n",
       "\n",
       "/* Span, style for the box shown on hovering the info icon */\n",
       ".sk-estimator-doc-link span {\n",
       "  display: none;\n",
       "  z-index: 9999;\n",
       "  position: relative;\n",
       "  font-weight: normal;\n",
       "  right: .2ex;\n",
       "  padding: .5ex;\n",
       "  margin: .5ex;\n",
       "  width: min-content;\n",
       "  min-width: 20ex;\n",
       "  max-width: 50ex;\n",
       "  color: var(--sklearn-color-text);\n",
       "  box-shadow: 2pt 2pt 4pt #999;\n",
       "  /* unfitted */\n",
       "  background: var(--sklearn-color-unfitted-level-0);\n",
       "  border: .5pt solid var(--sklearn-color-unfitted-level-3);\n",
       "}\n",
       "\n",
       ".sk-estimator-doc-link.fitted span {\n",
       "  /* fitted */\n",
       "  background: var(--sklearn-color-fitted-level-0);\n",
       "  border: var(--sklearn-color-fitted-level-3);\n",
       "}\n",
       "\n",
       ".sk-estimator-doc-link:hover span {\n",
       "  display: block;\n",
       "}\n",
       "\n",
       "/* \"?\"-specific style due to the `<a>` HTML tag */\n",
       "\n",
       "#sk-container-id-1 a.estimator_doc_link {\n",
       "  float: right;\n",
       "  font-size: 1rem;\n",
       "  line-height: 1em;\n",
       "  font-family: monospace;\n",
       "  background-color: var(--sklearn-color-background);\n",
       "  border-radius: 1rem;\n",
       "  height: 1rem;\n",
       "  width: 1rem;\n",
       "  text-decoration: none;\n",
       "  /* unfitted */\n",
       "  color: var(--sklearn-color-unfitted-level-1);\n",
       "  border: var(--sklearn-color-unfitted-level-1) 1pt solid;\n",
       "}\n",
       "\n",
       "#sk-container-id-1 a.estimator_doc_link.fitted {\n",
       "  /* fitted */\n",
       "  border: var(--sklearn-color-fitted-level-1) 1pt solid;\n",
       "  color: var(--sklearn-color-fitted-level-1);\n",
       "}\n",
       "\n",
       "/* On hover */\n",
       "#sk-container-id-1 a.estimator_doc_link:hover {\n",
       "  /* unfitted */\n",
       "  background-color: var(--sklearn-color-unfitted-level-3);\n",
       "  color: var(--sklearn-color-background);\n",
       "  text-decoration: none;\n",
       "}\n",
       "\n",
       "#sk-container-id-1 a.estimator_doc_link.fitted:hover {\n",
       "  /* fitted */\n",
       "  background-color: var(--sklearn-color-fitted-level-3);\n",
       "}\n",
       "</style><div id=\"sk-container-id-1\" class=\"sk-top-container\"><div class=\"sk-text-repr-fallback\"><pre>LinearRegression()</pre><b>In a Jupyter environment, please rerun this cell to show the HTML representation or trust the notebook. <br />On GitHub, the HTML representation is unable to render, please try loading this page with nbviewer.org.</b></div><div class=\"sk-container\" hidden><div class=\"sk-item\"><div class=\"sk-estimator fitted sk-toggleable\"><input class=\"sk-toggleable__control sk-hidden--visually\" id=\"sk-estimator-id-1\" type=\"checkbox\" checked><label for=\"sk-estimator-id-1\" class=\"sk-toggleable__label fitted sk-toggleable__label-arrow fitted\">&nbsp;&nbsp;LinearRegression<a class=\"sk-estimator-doc-link fitted\" rel=\"noreferrer\" target=\"_blank\" href=\"https://scikit-learn.org/1.5/modules/generated/sklearn.linear_model.LinearRegression.html\">?<span>Documentation for LinearRegression</span></a><span class=\"sk-estimator-doc-link fitted\">i<span>Fitted</span></span></label><div class=\"sk-toggleable__content fitted\"><pre>LinearRegression()</pre></div> </div></div></div></div>"
      ],
      "text/plain": [
       "LinearRegression()"
      ]
     },
     "execution_count": 4,
     "metadata": {},
     "output_type": "execute_result"
    }
   ],
   "source": [
    "# run linear regression here\n",
    "model = LinearRegression()\n",
    "model.fit(X_train_normalized, y_train)"
   ]
  },
  {
   "cell_type": "markdown",
   "id": "cbfc38b7-b761-42d1-970d-fa0c7d3600b0",
   "metadata": {},
   "source": [
    "1. Report the feature with the largest coefficient value and the corresponding coefficient (not including any offset term)."
   ]
  },
  {
   "cell_type": "code",
   "execution_count": 5,
   "id": "f87c45f5-ffa8-4c4d-9dc8-2abb844a6f60",
   "metadata": {},
   "outputs": [
    {
     "name": "stdout",
     "output_type": "stream",
     "text": [
      "alcohol 0.32243737948877366\n"
     ]
    }
   ],
   "source": [
    "import numpy as np\n",
    "\n",
    "coefficients = model.coef_\n",
    "feature_names = X_train.columns\n",
    "largest_coeff_idx = np.argmax(np.abs(coefficients))\n",
    "\n",
    "feature = feature_names[largest_coeff_idx]\n",
    "corresponding_coefficient = coefficients[largest_coeff_idx]\n",
    "print(feature, corresponding_coefficient)"
   ]
  },
  {
   "cell_type": "code",
   "execution_count": 6,
   "id": "9bfba22a-8d53-4e56-9fd9-06f166cbd7b5",
   "metadata": {},
   "outputs": [],
   "source": [
    "answers['Q1'] = [feature, corresponding_coefficient]"
   ]
  },
  {
   "cell_type": "markdown",
   "id": "e776ed66-9575-4f16-afe2-7be06aff6e9f",
   "metadata": {},
   "source": [
    "2. On the first example in the test set, determine which feature has the largest effect and report its effect (see \"Explaining predictions using weight plots & effect plots\")."
   ]
  },
  {
   "cell_type": "code",
   "execution_count": 7,
   "id": "18f7da36-baf1-4831-9bcd-bdd0a8d67555",
   "metadata": {},
   "outputs": [
    {
     "name": "stdout",
     "output_type": "stream",
     "text": [
      "alcohol 0.4645765261736787\n"
     ]
    }
   ],
   "source": [
    "first_test_example = X_test_normalized[0]\n",
    "effects = first_test_example * coefficients\n",
    "\n",
    "largest_effect_idx = np.argmax(np.abs(effects))\n",
    "\n",
    "feature = feature_names[largest_effect_idx]\n",
    "corresponding_coefficient = effects[largest_effect_idx]\n",
    "print(feature, corresponding_coefficient)"
   ]
  },
  {
   "cell_type": "code",
   "execution_count": 8,
   "id": "638b206b-2765-488a-8902-7a9571a9d9dd",
   "metadata": {},
   "outputs": [],
   "source": [
    "answers['Q2'] = [feature, corresponding_coefficient]"
   ]
  },
  {
   "cell_type": "markdown",
   "id": "958c1a03-34ef-4a29-83eb-8e93e1bc36f8",
   "metadata": {},
   "source": [
    "3. (2 marks) Based on the MSE, compute ablations of the model including every feature (other than the offset). Find the most important feature (i.e., such that the ablated model has the highest MSE) and report the value of MSE_ablated - MSE_full."
   ]
  },
  {
   "cell_type": "code",
   "execution_count": 9,
   "id": "f05798b2-b0b4-45ac-93ed-a952701cc52d",
   "metadata": {},
   "outputs": [
    {
     "name": "stdout",
     "output_type": "stream",
     "text": [
      "volatile acidity 0.023537285288143472\n"
     ]
    }
   ],
   "source": [
    "y_pred = model.predict(X_test_normalized)\n",
    "mse = mean_squared_error(y_test, y_pred)\n",
    "\n",
    "mse_ablated = {}\n",
    "for i, feature in enumerate(feature_names):\n",
    "    X_train_ablated = np.delete(X_train_normalized, i, axis=1)\n",
    "    X_test_ablated = np.delete(X_test_normalized, i, axis=1)\n",
    "\n",
    "    model_ablated = LinearRegression()\n",
    "    model_ablated.fit(X_train_ablated, y_train)\n",
    "\n",
    "    y_pred_ablated = model_ablated.predict(X_test_ablated)\n",
    "    mse_ablated[feature] = mean_squared_error(y_test, y_pred_ablated)\n",
    "\n",
    "most_important_feature = max(mse_ablated, key=lambda k: mse_ablated[k] - mse)\n",
    "mse_diff = mse_ablated[most_important_feature] - mse\n",
    "print(most_important_feature, mse_diff)"
   ]
  },
  {
   "cell_type": "code",
   "execution_count": 10,
   "id": "618a73ab-3184-4f42-b3cd-a34fb43d1915",
   "metadata": {},
   "outputs": [],
   "source": [
    "answers['Q3'] = [most_important_feature, mse_diff]"
   ]
  },
  {
   "cell_type": "markdown",
   "id": "bc50bc1c-0e2c-44ba-bb02-be6dea13c6a2",
   "metadata": {},
   "source": [
    "4. (2 marks) Implement a full backward selection pipeline and report the sequence of MSE values for each model as a list (of increasing MSEs)."
   ]
  },
  {
   "cell_type": "code",
   "execution_count": 11,
   "id": "f9aa208d-7705-4979-94e2-9bf22b780ef3",
   "metadata": {},
   "outputs": [
    {
     "name": "stdout",
     "output_type": "stream",
     "text": [
      "11\n"
     ]
    },
    {
     "data": {
      "text/plain": [
       "[0.5432570592077817,\n",
       " 0.5433470389201226,\n",
       " 0.5438342382954463,\n",
       " 0.5443356554425473,\n",
       " 0.5448096758792239,\n",
       " 0.5455297712185817,\n",
       " 0.5466964419580582,\n",
       " 0.5473700777213758,\n",
       " 0.5508614446930262,\n",
       " 0.5538899057173574,\n",
       " 0.604438075518826]"
      ]
     },
     "execution_count": 11,
     "metadata": {},
     "output_type": "execute_result"
    }
   ],
   "source": [
    "remaining_features = list(feature_names)\n",
    "print(len(remaining_features))\n",
    "X_train_current = X_train_normalized.copy()\n",
    "X_test_current = X_test_normalized.copy()\n",
    "\n",
    "mse_values = []\n",
    "\n",
    "model = LinearRegression()\n",
    "model.fit(X_train_current, y_train)\n",
    "y_pred_full = model.predict(X_test_current)\n",
    "mse_values.append(mean_squared_error(y_test, y_pred_full))\n",
    "\n",
    "while len(remaining_features) > 1:\n",
    "    mse_ablated = {}\n",
    "\n",
    "    for i, feature in enumerate(remaining_features):\n",
    "        X_train_ablated = np.delete(X_train_current, i, axis=1)\n",
    "        X_test_ablated = np.delete(X_test_current, i, axis=1)\n",
    "\n",
    "        model_ablated = LinearRegression()\n",
    "        model_ablated.fit(X_train_ablated, y_train)\n",
    "        y_pred_ablated = model_ablated.predict(X_test_ablated)\n",
    "        mse_ablated[feature] = mean_squared_error(y_test, y_pred_ablated)\n",
    "\n",
    "    least_important_feature = min(mse_ablated, key=lambda k: mse_ablated[k])\n",
    "    mse_values.append(mse_ablated[least_important_feature])\n",
    "\n",
    "    remove_idx = remaining_features.index(least_important_feature)\n",
    "    X_train_current = np.delete(X_train_current, remove_idx, axis=1)\n",
    "    X_test_current = np.delete(X_test_current, remove_idx, axis=1)\n",
    "    remaining_features.remove(least_important_feature)\n",
    "\n",
    "mse_list = sorted(mse_values)\n",
    "mse_list"
   ]
  },
  {
   "cell_type": "code",
   "execution_count": 12,
   "id": "6ad75e6c-4798-4033-b918-8a2f8f98df1b",
   "metadata": {},
   "outputs": [],
   "source": [
    "answers['Q4'] = mse_list "
   ]
  },
  {
   "cell_type": "markdown",
   "id": "2bdc8067-aadc-4e21-869d-5c7a627d4949",
   "metadata": {},
   "source": [
    "5. (2 marks) Change your model to use an l1 regularizer. Increasing the regularization strength will cause variables to gradually be removed (coefficient reduced to zero) from the model. Which is the first and the last variable to be eliminated via this process?"
   ]
  },
  {
   "cell_type": "code",
   "execution_count": 13,
   "id": "0160f4a3-0ab8-4db1-9b42-47ecce3a5be6",
   "metadata": {},
   "outputs": [
    {
     "name": "stdout",
     "output_type": "stream",
     "text": [
      "density alcohol\n"
     ]
    }
   ],
   "source": [
    "from sklearn.linear_model import Lasso\n",
    "\n",
    "alpha_values = np.logspace(-4, 1, 50)\n",
    "feature_names = np.array(feature_names)\n",
    "\n",
    "coef_history = np.zeros((len(alpha_values), len(feature_names)))\n",
    "\n",
    "for i, alpha in enumerate(alpha_values):\n",
    "    lasso = Lasso(alpha=alpha, max_iter=5000)\n",
    "    lasso.fit(X_train_normalized, y_train)\n",
    "    coef_history[i] = lasso.coef_\n",
    "\n",
    "first_eliminated_index = np.where(coef_history == 0)[1][0]\n",
    "last_eliminated_index = np.where(coef_history == 0)[1][-1]\n",
    "\n",
    "first_feature = feature_names[first_eliminated_index]\n",
    "last_feature = feature_names[last_eliminated_index]\n",
    "print(first_feature, last_feature)"
   ]
  },
  {
   "cell_type": "code",
   "execution_count": 14,
   "id": "76b7fff2-cdc9-4f5a-939f-7fd916aee222",
   "metadata": {},
   "outputs": [],
   "source": [
    "answers['Q5'] = [first_feature, last_feature]"
   ]
  },
  {
   "cell_type": "markdown",
   "id": "28d11bf8-8f0c-40d5-82e5-9a543f202aa8",
   "metadata": {},
   "source": [
    "### Implement a classifier to predict the wine color (red / white), again using an 80/20 train/test split, and including only continuous variables."
   ]
  },
  {
   "cell_type": "code",
   "execution_count": 15,
   "id": "b2733fcb-5c2a-4d58-acad-d3bfa8ecbe7e",
   "metadata": {},
   "outputs": [
    {
     "name": "stdout",
     "output_type": "stream",
     "text": [
      "X_train shape: (5197, 11)\n",
      "X_test shape: (1300, 11)\n",
      "y_train shape: (5197,)\n",
      "y_test shape: (1300,)\n"
     ]
    }
   ],
   "source": [
    "import pandas as pd\n",
    "from sklearn.model_selection import train_test_split\n",
    "\n",
    "# Load datasets\n",
    "winequality_red = pd.read_csv(\"winequality-red.csv\", sep=';')\n",
    "winequality_white = pd.read_csv(\"winequality-white.csv\", sep=';')\n",
    "\n",
    "# Add a column to distinguish red and white wines\n",
    "winequality_red['type'] = 0  # Red wine (encoded as 0)\n",
    "winequality_white['type'] = 1  # White wine (encoded as 1)\n",
    "\n",
    "# Concatenate the datasets\n",
    "wine_data = pd.concat([winequality_red, winequality_white], axis=0)\n",
    "\n",
    "# Separate features (and drop \"quality\" to get continuous variables) and target\n",
    "X = wine_data.drop(columns=['quality', 'type'])  # Drop the target column\n",
    "y = wine_data['type']  # Target column (wine type)\n",
    "\n",
    "# Perform train/test split\n",
    "random_seed = 42\n",
    "X_train, X_test, y_train, y_test = train_test_split(X, y, test_size=0.2, random_state=random_seed)\n",
    "\n",
    "# Display shapes of the resulting splits\n",
    "print(f\"X_train shape: {X_train.shape}\")\n",
    "print(f\"X_test shape: {X_test.shape}\")\n",
    "print(f\"y_train shape: {y_train.shape}\")\n",
    "print(f\"y_test shape: {y_test.shape}\")"
   ]
  },
  {
   "cell_type": "markdown",
   "id": "735a0ada-2909-4b27-940d-4c808d725809",
   "metadata": {},
   "source": [
    "6. Report the odds ratio associated with the first sample in the test set."
   ]
  },
  {
   "cell_type": "code",
   "execution_count": 16,
   "id": "abe32c1f-b351-42df-8d71-71570f2c3bea",
   "metadata": {},
   "outputs": [
    {
     "name": "stdout",
     "output_type": "stream",
     "text": [
      "12.939022435400068\n"
     ]
    }
   ],
   "source": [
    "from sklearn.linear_model import LogisticRegression\n",
    "import warnings\n",
    "warnings.filterwarnings(\"ignore\")\n",
    "\n",
    "scaler = StandardScaler()\n",
    "\n",
    "X_train_normalized = scaler.fit_transform(X_train)\n",
    "X_test_normalized = scaler.transform(X_test)\n",
    "X_train = pd.DataFrame(X_train_normalized, columns=X_train.columns)\n",
    "X_test = pd.DataFrame(X_test_normalized, columns=X_test.columns)\n",
    "\n",
    "model = LogisticRegression()\n",
    "model.fit(X=X_train, y=y_train)\n",
    "\n",
    "first_sample = X_test[0:1]\n",
    "beta_coefficients = model.coef_[0]\n",
    "beta_0 = model.intercept_[0]\n",
    "odds_ratio = float(beta_0 + np.dot(first_sample, beta_coefficients))\n",
    "print(odds_ratio)"
   ]
  },
  {
   "cell_type": "code",
   "execution_count": 17,
   "id": "f9a61b47-6c29-45f5-96ce-66339db779e0",
   "metadata": {},
   "outputs": [],
   "source": [
    "answers['Q6'] = odds_ratio"
   ]
  },
  {
   "cell_type": "markdown",
   "id": "91c91810-ec59-4053-a0b9-79309f88c0ff",
   "metadata": {},
   "source": [
    "7. Find the 20 nearest neighbors (in the training set) to the first datapoint in the test set, based on the l2 distance. Train a classifier using only those 20 points, and report the largest value of e^theta_j (see “odds ratio” slides)."
   ]
  },
  {
   "cell_type": "code",
   "execution_count": 18,
   "id": "28b9cc41-5178-46fb-a203-4e08f69f3042",
   "metadata": {},
   "outputs": [
    {
     "data": {
      "text/plain": [
       "1.6389763330200806"
      ]
     },
     "execution_count": 18,
     "metadata": {},
     "output_type": "execute_result"
    }
   ],
   "source": [
    "from sklearn.neighbors import NearestNeighbors\n",
    "\n",
    "first_test_sample = X_test[0:1]\n",
    "nbrs = NearestNeighbors(n_neighbors=50, metric=\"l2\")\n",
    "nbrs.fit(X_train)\n",
    "distances, indices = nbrs.kneighbors(first_test_sample)\n",
    "\n",
    "X_nearest = X_train.iloc[indices[0]].reset_index(drop=True)\n",
    "y_nearest = y_train.iloc[indices[0]].reset_index(drop=True)\n",
    "\n",
    "model = LogisticRegression()\n",
    "model.fit(X_nearest, y_nearest)\n",
    "\n",
    "coefficients = model.coef_[0]\n",
    "exp_coefficients = np.exp(coefficients)\n",
    "value = np.max(exp_coefficients)\n",
    "value"
   ]
  },
  {
   "cell_type": "code",
   "execution_count": 19,
   "id": "26291b68-8309-4ecf-b6ec-cff0e8137bff",
   "metadata": {},
   "outputs": [],
   "source": [
    "answers['Q7'] = value"
   ]
  },
  {
   "cell_type": "code",
   "execution_count": 20,
   "id": "d6c7cede",
   "metadata": {},
   "outputs": [
    {
     "data": {
      "text/plain": [
       "{'Q1': ['alcohol', 0.32243737948877366],\n",
       " 'Q2': ['alcohol', 0.4645765261736787],\n",
       " 'Q3': ['volatile acidity', 0.023537285288143472],\n",
       " 'Q4': [0.5432570592077817,\n",
       "  0.5433470389201226,\n",
       "  0.5438342382954463,\n",
       "  0.5443356554425473,\n",
       "  0.5448096758792239,\n",
       "  0.5455297712185817,\n",
       "  0.5466964419580582,\n",
       "  0.5473700777213758,\n",
       "  0.5508614446930262,\n",
       "  0.5538899057173574,\n",
       "  0.604438075518826],\n",
       " 'Q5': ['density', 'alcohol'],\n",
       " 'Q6': 12.939022435400068,\n",
       " 'Q7': 1.6389763330200806}"
      ]
     },
     "execution_count": 20,
     "metadata": {},
     "output_type": "execute_result"
    }
   ],
   "source": [
    "answers"
   ]
  }
 ],
 "metadata": {
  "kernelspec": {
   "display_name": "base",
   "language": "python",
   "name": "python3"
  },
  "language_info": {
   "codemirror_mode": {
    "name": "ipython",
    "version": 3
   },
   "file_extension": ".py",
   "mimetype": "text/x-python",
   "name": "python",
   "nbconvert_exporter": "python",
   "pygments_lexer": "ipython3",
   "version": "3.10.9"
  }
 },
 "nbformat": 4,
 "nbformat_minor": 5
}
